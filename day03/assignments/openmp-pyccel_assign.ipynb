{
 "cells": [
  {
   "cell_type": "markdown",
   "id": "6ba3d484",
   "metadata": {},
   "source": [
    "*Note: all those exercises should be done using python with pyccel openmp*"
   ]
  },
  {
   "cell_type": "markdown",
   "id": "2df9c98f",
   "metadata": {},
   "source": [
    "## Exercise 1 Hello World\n",
    "\n",
    "1. Write an OpenMP program displaying the number of threads used for the execution and the rank of each of the threads.\n",
    "3. Test the programs obtained with different numbers of threads for the parallel program.\n",
    "\n",
    "**Output Example**\n",
    "```shell\n",
    ">> Python hello.py\n",
    "Hello from the rank 2 thread\n",
    "Hello from the rank 0 thread\n",
    "Hello from the rank 3 thread\n",
    "Hello from the rank 1 thread\n",
    "Hello from the rank 4 thread\n",
    "Parallel execution of hello_world with 4 threads\n",
    "```\n",
    "*Note that the output order maybe different*"
   ]
  },
  {
   "cell_type": "code",
   "execution_count": 1,
   "id": "273c537b",
   "metadata": {},
   "outputs": [],
   "source": [
    "import pyccel"
   ]
  },
  {
   "cell_type": "code",
   "execution_count": 2,
   "id": "ba86ef20",
   "metadata": {},
   "outputs": [
    {
     "name": "stdout",
     "output_type": "stream",
     "text": [
      "Overwriting hello.py\n"
     ]
    }
   ],
   "source": [
    "%%file hello.py\n",
    " # write your program here\n",
    "if __name__==\"__main__\":\n",
    "    from pyccel.stdlib.internal.openmp import omp_get_thread_num, omp_get_num_threads, omp_set_num_threads\n",
    "    omp_set_num_threads(3)\n",
    "    #$ omp parallel\n",
    "    rank=omp_get_thread_num()\n",
    "    print(\"Hello from the rank\",rank,\"thread\")\n",
    "    result=omp_get_num_threads()\n",
    "    #$ omp end parallel\n",
    "    print(\"Parallel execution of hello_world with\",result,\"threads\")\n",
    "    \n"
   ]
  },
  {
   "cell_type": "code",
   "execution_count": 3,
   "id": "1b20869e",
   "metadata": {},
   "outputs": [
    {
     "name": "stdout",
     "output_type": "stream",
     "text": [
      "Hello from the rank 0 thread\r\n",
      "Hello from the rank 2 thread\r\n",
      "Hello from the rank 1 thread\r\n",
      "Parallel execution of hello_world with 3 threads\r\n"
     ]
    }
   ],
   "source": [
    "!pyccel --language=c hello.py --openmp\n",
    "!./hello"
   ]
  },
  {
   "cell_type": "markdown",
   "id": "cc3d494d",
   "metadata": {},
   "source": [
    "## Exercise 2 Matrix product\n",
    "\n",
    "Considering the following code for matrix product:\n",
    "\n",
    "1. Using pyccel, epyccelize the `matrix_prod` function, and time the execution of epyccelized function.\n",
    "2. Insert the appropriate OpenMP directives and analyse the code performance.\n",
    "3. Test the loop iteration repartition modes (`STATIC`, `DYNAMIC`, `GUIDED`) and vary the chunk sizes.\n",
    "**Example output**\n",
    "\n",
    "```bash\n",
    "   Value of M and N           : 20 20 \n",
    "    Temps elapsed              : 0.0009012222290039062 \n",
    "    Temps CPU                  : 0.0 \n",
    "    Partiel results            : 2790.0 2690.0 ... -3610.0 -4350.0 \n",
    "\n",
    " Execution of Matrix production in parallele with                     8 threads\n",
    "```"
   ]
  },
  {
   "cell_type": "code",
   "execution_count": 4,
   "id": "323e1d19",
   "metadata": {},
   "outputs": [],
   "source": [
    "from pyccel.decorators import types"
   ]
  },
  {
   "cell_type": "code",
   "execution_count": 5,
   "id": "64680bc9",
   "metadata": {},
   "outputs": [
    {
     "name": "stdout",
     "output_type": "stream",
     "text": [
      "Value of M and N    : 20 20 \n",
      " Elapsed Time   : 0.0012633800506591797 \n",
      " CPU time       : 0.0017855350000000048 \n",
      "\n"
     ]
    }
   ],
   "source": [
    "@types('float[:,:]','float[:,:]','float[:,:]','int','int')\n",
    "def matrix_prod(A, B, C, N, M):\n",
    "\n",
    "\n",
    "    #$ omp parallel private (i,j) \n",
    "    #$ omp for collapse(2)\n",
    "    for i in range( M ):\n",
    "        for j in range( N ):\n",
    "            A[ i, j ] = (i + 1) + (j + 1)\n",
    "    \n",
    "\n",
    "    #$ omp for collapse(2)  \n",
    "    for i in range( N ):\n",
    "        for j in range( M ):\n",
    "            B[ i, j ] = (i + 1) - (j + 1)\n",
    "\n",
    "    #$ omp for collapse(2)   \n",
    "    for i in range( M ):\n",
    "        for j in range( M ):\n",
    "            C[ i, j ] = 0\n",
    "  \n",
    "\n",
    "    #$ omp barrier\n",
    "    #$ omp for    \n",
    "    for i in range( M ):\n",
    "        for j in range( M ):\n",
    "            for k in range( N ):\n",
    "                C[ i, j ] += A[ i, k ] * B[ k, j ]\n",
    "\n",
    "    #$ omp end parallel\n",
    "    return 0\n",
    "\n",
    "\n",
    "    \n",
    "\n",
    "if __name__ == \"__main__\":\n",
    "    from pyccel.stdlib.internal.openmp import omp_set_num_threads,omp_get_num_threads\n",
    "    omp_set_num_threads(8)\n",
    "    \n",
    "    \n",
    "    # Pycelyse le produit de matrix \n",
    "    from pyccel.epyccel import epyccel\n",
    "    p_prodmat = epyccel(matrix_prod, language='c', accelerators=['openmp'])\n",
    "    \n",
    "    import numpy as np\n",
    "    import time\n",
    "    import math\n",
    "    \n",
    "    M = 20\n",
    "    N = 20\n",
    "\n",
    "    # Declare Matrices\n",
    "    A = np.empty((M, N), dtype=np.double)\n",
    "    B = np.empty((N, M), dtype=np.double)\n",
    "    C = np.empty((M, M), dtype=np.double)\n",
    "    \n",
    "    # start CPU timing\n",
    "    cpu_0 = time.process_time()\n",
    "\n",
    "    # start Wall timing\n",
    "    elapsed_0 = time.time()\n",
    "\n",
    "    # run and time the matrix_prod function  \n",
    "    p_prodmat(A,B,C,N,M)\n",
    "    \n",
    "    result= omp_get_num_threads()\n",
    "    # CPU time\n",
    "    cpu_1 = time.process_time()\n",
    "    cpu = cpu_1 - cpu_0\n",
    "\n",
    "    # Wall timing\n",
    "    elapsed_1 = time.time()\n",
    "    elapsed = elapsed_1 - elapsed_0\n",
    "\n",
    "\n",
    "    print(\n",
    "        \"Value of M and N    :\", M,  N,        '\\n',\n",
    "        \"Elapsed Time   :\", elapsed,    '\\n',\n",
    "        \"CPU time       :\", cpu,        '\\n',\n",
    "        #\"Execution of Matrix production in parallele with\",result, \"threads\"\n",
    "    )"
   ]
  },
  {
   "cell_type": "markdown",
   "id": "82f2620a",
   "metadata": {},
   "source": [
    "## Exercise 3 Jacobi method\n",
    "\n",
    "Considering the following code for a general linear system solver:\n",
    "\n",
    "$$ A \\times x = b $$\n",
    "\n",
    "using the Jacobi iterative method.\n",
    "In this exercice, you must solve the system in parallel\n",
    "   \n",
    "**Example Output**\n",
    "    \n",
    "```bash\n",
    "System size    : 20 \n",
    " Iterations     : 21 \n",
    " Stand          : 2.9100049961372497e-08 \n",
    " Elapsed Time   : 7.447303771972656 \n",
    " CPU time       : 0.921875 \n",
    "```"
   ]
  },
  {
   "cell_type": "code",
   "execution_count": 3,
   "id": "083530f2",
   "metadata": {},
   "outputs": [
    {
     "name": "stdout",
     "output_type": "stream",
     "text": [
      "System size    : 20 \n",
      " Iterations     : 22 \n",
      " Stand          : 0.00190483892910887 \n",
      " Elapsed Time   : 0.3645598888397217 \n",
      " CPU time       : 0.04914121499999968 \n",
      "\n"
     ]
    }
   ],
   "source": [
    "from pyccel.decorators import types\n",
    "\n",
    "@types('float[:,:]','float[:]','float[:]','int','float')\n",
    "def jacobi(a, b, x, n, eps):\n",
    "\n",
    "    # print(\"Execution of Jacobi in parallel with\", nb_tasks, \"threads\")\n",
    "    # Jacobi method resolution\n",
    "    import numpy as np\n",
    "    import math\n",
    "    x_courant = np.empty(n, dtype=np.double)\n",
    "    iteration = 0\n",
    "    #$ omp parallel\n",
    "    while(1):\n",
    "        iteration += 1\n",
    "        \n",
    "        #$ omp for\n",
    "        for i in range(n):\n",
    "            x_courant[i] = 0.\n",
    "            for j in range(i):\n",
    "                x_courant[i] += a[ j, i ] * x[j]\n",
    "\n",
    "            for j in range(i + 1, n):\n",
    "                x_courant[i] += a[ j, i ] * x[j]\n",
    "\n",
    "            x_courant[i] = (b[i] - x_courant[i]) / a[ i, i ]\n",
    "        \n",
    "        # Convergence test\n",
    "        absmax = 0.\n",
    "        #$ omp for\n",
    "        for i in range(n):\n",
    "            curr = math.fabs(x[i] - x_courant[i])\n",
    "            if curr > absmax:\n",
    "                absmax = curr\n",
    "        stand = absmax / n\n",
    "        if stand <= eps or iteration > n:\n",
    "            \n",
    "            break\n",
    "\n",
    "        # copy x_courant into \n",
    "        #$ omp for\n",
    "        for i in range(n):\n",
    "            x [i] = x_courant[i]\n",
    "        \n",
    "    #$ omp end parallel\n",
    "        \n",
    "    return stand, iteration\n",
    "\n",
    "if __name__ == \"__main__\":\n",
    "    from pyccel.stdlib.internal.openmp import omp_set_num_threads,omp_get_num_threads\n",
    "    omp_set_num_threads(3)\n",
    "    \n",
    "    from pyccel.decorators import types\n",
    "    import numpy as np\n",
    "    import time, random, math, sys\n",
    "\n",
    "    # Matrix default dimension\n",
    "    n = 20\n",
    "    diag = 20\n",
    "\n",
    "    # Initialize of the matrices\n",
    "    np.random.seed(421)  # for reproductibles results\n",
    "    a = np.random.uniform(0, 1, size=(n, n))\n",
    "    b = np.random.uniform(0, 1, size=n)\n",
    "\n",
    "    # We strengthen the main diagonal of the matrix\n",
    "    for i in range(n):\n",
    "        a[ i, i ] += diag\n",
    "\n",
    "    # Initial solution\n",
    "    x = np.ones(n, dtype=np.double)\n",
    "\n",
    "    # start CPU timing\n",
    "    cpu_0 = time.process_time()\n",
    "\n",
    "    # start Wall timing\n",
    "    elapsed_0 = time.time()\n",
    "\n",
    "    # Pyccelize jacobi function\n",
    "    from pyccel.epyccel import epyccel\n",
    "    p_jacobi = epyccel(jacobi, language='fortran',accelerators=['openmp'])\n",
    "\n",
    "    eps = sys.float_info.epsilon\n",
    "    \n",
    "    # -------------------- computing ------------------\n",
    "    stand, iteration = p_jacobi(a, b, x, n, eps)\n",
    "    # ------------------ End computing ----------------\n",
    "\n",
    "    # CPU time\n",
    "    cpu_1 = time.process_time()\n",
    "    cpu = cpu_1 - cpu_0\n",
    "\n",
    "    # Wall timing\n",
    "    elapsed_1 = time.time()\n",
    "    elapsed = elapsed_1 - elapsed_0\n",
    "\n",
    "    print(\n",
    "        \"System size    :\", n,          '\\n',\n",
    "        \"Iterations     :\", iteration,  '\\n',\n",
    "        \"Stand          :\", stand,      '\\n',\n",
    "        \"Elapsed Time   :\", elapsed,    '\\n',\n",
    "        \"CPU time       :\", cpu,        '\\n'\n",
    "    )\n",
    "    "
   ]
  },
  {
   "cell_type": "markdown",
   "id": "2558cbed",
   "metadata": {},
   "source": [
    "## Exercise 4 Calculation of π\n",
    "\n",
    "The aim of this exercise is to calculate π by numerical integration knowing that Considering the following code for matrix product: $\\int_{0}^{1} \\frac{4}{1 + x^2} = {\\pi} $\n",
    "\n",
    "The following program is for calculating the value of\n",
    "π by the rectangle method (mid-point). Let $f(x) = \\frac{4}{1 + x^2} $\n",
    "2 be the function to integrate, N and $ h = \\frac{1}{N} $ (respectively) the number of points, and the discretization width on the integration\n",
    "interval $[0, 1]$.\n",
    "\n",
    "Analyse the performance of the codes, then optimise  your code using OpenMP directives."
   ]
  },
  {
   "cell_type": "code",
   "execution_count": 4,
   "id": "b26ed9cd",
   "metadata": {},
   "outputs": [
    {
     "name": "stdout",
     "output_type": "stream",
     "text": [
      "Overwriting pi.py\n"
     ]
    }
   ],
   "source": [
    "%%file pi.py\n",
    "\n",
    "def f(a:'float'):\n",
    "    return  4.0 / (1. + a * a)\n",
    "\n",
    "\n",
    "def pi(n:'int', h:'float'):\n",
    "    #print(\"Execution of PI in parallel with\", nb_tasks,\"threads\")\n",
    "    #$ omp parallel\n",
    "    #$ omp for\n",
    "    for k in range(100):\n",
    "        Pi_calc = 0.\n",
    "        for i in range(n):\n",
    "            x = h * (i + 0.5)\n",
    "            Pi_calc = Pi_calc +f(x)\n",
    "\n",
    "        Pi_calc = h * Pi_calc\n",
    "    #$ omp end parallel\n",
    "    return Pi_calc"
   ]
  },
  {
   "cell_type": "code",
   "execution_count": 11,
   "id": "cd20177a",
   "metadata": {},
   "outputs": [
    {
     "name": "stdout",
     "output_type": "stream",
     "text": [
      "4.43 ms ± 196 µs per loop (mean ± std. dev. of 7 runs, 100 loops each)\n"
     ]
    }
   ],
   "source": [
    "import pi\n",
    "%timeit pi.pi(300, 1/300)"
   ]
  },
  {
   "cell_type": "markdown",
   "id": "d2b043cc",
   "metadata": {},
   "source": [
    "On remarque que notre fonction pi s'exécute en 4.43 ms"
   ]
  },
  {
   "cell_type": "code",
   "execution_count": 42,
   "id": "77d754e9",
   "metadata": {},
   "outputs": [
    {
     "name": "stdout",
     "output_type": "stream",
     "text": [
      "225 µs ± 16.1 µs per loop (mean ± std. dev. of 7 runs, 10000 loops each)\n",
      "   Number of intervals        : 300 \n",
      "    | Pi_estime - Pi_calcule | : 9.259259248217688e-07 \n",
      "    Temps elapsed              : 0.0001766681671142578 \n",
      "    Temps CPU                  : 0.0005584539999290428 \n",
      "\n"
     ]
    }
   ],
   "source": [
    "if __name__ == '__main__':\n",
    "    from pyccel.stdlib.internal.openmp import omp_get_thread_num, omp_get_num_threads, omp_set_num_threads\n",
    "    omp_set_num_threads(3)\n",
    "    \n",
    "    import time, math\n",
    "    #                  __\n",
    "    #  But : calcul de || par la methode des rectangles (point milieu).\n",
    "    #\n",
    "    #                   / 1\n",
    "    #                  |       4            __\n",
    "    #                  |   ----------  dx = ||\n",
    "    #                  |    1 + x**2\n",
    "    #                 / 0\n",
    "\n",
    "\n",
    "    n = 300\n",
    "\n",
    "    # Length of the integration interval\n",
    "    h = 1.0 / n\n",
    "\n",
    "    from pyccel.epyccel import epyccel\n",
    "    import pi\n",
    "    pyc_pi = epyccel(pi, language='fortran',accelerators=['openmp'])\n",
    "\n",
    "    # start timing\n",
    "    tcpu_0 = time.process_time() # CPU time\n",
    "    t_elapsed_0 = time.time()    # Wall time\n",
    "\n",
    "    # -------------------- computing ------------------\n",
    "\n",
    "    Pi_calc = pyc_pi.pi(n, h)\n",
    "\n",
    "    # ------------------ End computing ----------------\n",
    "\n",
    "    # CPU time spent\n",
    "    tcpu_1 = time.process_time()\n",
    "    tcpu = tcpu_1 - tcpu_0\n",
    "\n",
    "    # Wall time spent\n",
    "    t_elapsed_1 = time.time()\n",
    "    t_elapsed = t_elapsed_1 - t_elapsed_0\n",
    "    \n",
    "    %timeit Pi_calc = pyc_pi.pi(n, h)\n",
    "\n",
    "    # deviation between the estimated value and the calculated value of Pi\n",
    "    Pi_estime = math.acos(-1)\n",
    "    deviat = math.fabs(Pi_estime - Pi_calc)\n",
    "\n",
    "    # Print result\n",
    "    print(\n",
    "      \"   Number of intervals        :\", n,         \"\\n\",\n",
    "\t  \"   | Pi_estime - Pi_calcule | :\", deviat,    \"\\n\",\n",
    "\t  \"   Temps elapsed              :\", t_elapsed, \"\\n\",\n",
    "\t  \"   Temps CPU                  :\", tcpu,      \"\\n\",\n",
    "    )"
   ]
  },
  {
   "cell_type": "code",
   "execution_count": 41,
   "id": "b7299489",
   "metadata": {},
   "outputs": [
    {
     "data": {
      "text/plain": [
       "Text(0.5, 1.0, 'Time CPu per number of threads for pi calcul')"
      ]
     },
     "execution_count": 41,
     "metadata": {},
     "output_type": "execute_result"
    },
    {
     "data": {
      "image/png": "[encoded data removed]",
      "text/plain": [
       "<Figure size 432x288 with 1 Axes>"
      ]
     },
     "metadata": {
      "needs_background": "light"
     },
     "output_type": "display_data"
    }
   ],
   "source": [
    "import matplotlib.pyplot as plt\n",
    "time_CPU=[235/10**6, 195/10**6, 199/10**6, 226/10**6, 199/10**6, 216/10**6]\n",
    "plt.plot(range(1,7), time_CPU)\n",
    "plt.title(\"Time CPu per number of threads for pi calcul\")"
   ]
  },
  {
   "cell_type": "markdown",
   "id": "9b52528d",
   "metadata": {},
   "source": [
    "On remarque que l'augmentation du nombre de threads améliorait la performance en terme de temps de calcul avec le plus bas temps obtenu avec 2 threads. Cependant, on remarque qu'a partir de 5 threads que le temps d'exécution se dégrade fortement"
   ]
  },
  {
   "cell_type": "markdown",
   "id": "6bea47a3",
   "metadata": {},
   "source": [
    "## Exercise 5 Reduction of an array\n",
    "\n",
    "The given program contained in the `reduction_tab.py` file is extracted from a chemistry code. It reduces a three-dimensional array into a vector. The aim of this exercise is to parallelize this calculation kernel without changing the loop order in the provided code (i.e. k,j,i)\n",
    "\n",
    "1. Analyse the data-sharing attributes of the variables and adapt the source code so that the K outermost loop is parallelized.\n",
    "2. Compare the performance obtained by using the thread/core binding default execution on Ada and by using scatter binding. Suggest an explanation for the poor performance of the latter.\n",
    "3. Optimise the source code for the scatter mode with taking into account the memory affinity. Why does this third series of executions give the best performance "
   ]
  },
  {
   "cell_type": "code",
   "execution_count": 11,
   "id": "a4db9a85",
   "metadata": {},
   "outputs": [
    {
     "name": "stdout",
     "output_type": "stream",
     "text": [
      "Overwriting reduction_tab.py\n"
     ]
    }
   ],
   "source": [
    "%%file reduction_tab.py\n",
    "\n",
    "from pyccel.decorators import types\n",
    "\n",
    "@types('float[:,:,:]','int','int','int')\n",
    "def initialize_table(tab, nmolec, n, nmol):\n",
    "    # Initialisation du tableau\n",
    "    # First-touch pour garantir un fonctionnement optimal sur les systemes NUMA\n",
    "    #$ omp parallel\n",
    "    #$ omp for\n",
    "    for k in range(nmolec):\n",
    "        for j in range(n):\n",
    "            for i in range(nmol):\n",
    "                tab[ i,j,k ] = i + j + k\n",
    "    #$ omp end parallel\n",
    "    \n",
    "\n",
    "@types('float[:,:,:]','float[:]','float[:]','int','int','int')\n",
    "def reduction(tab, tab1, tab2, nmolec, nmol, n):\n",
    "    #$ omp parallel\n",
    "    #$ omp for\n",
    "    for k in range(nmolec):\n",
    "        tab1[:nmol] = 0\n",
    "        for j in range(n):\n",
    "            for i in range(nmol):\n",
    "                tab1[i] = tab1[i] + tab[i,j,k]\n",
    "        tab2[:nmol] = tab2[:nmol] + 2 * tab1[:nmol]\n",
    "    \n",
    "    #$ omp end parallel"
   ]
  },
  {
   "cell_type": "code",
   "execution_count": 34,
   "id": "a5aa4996",
   "metadata": {
    "scrolled": true
   },
   "outputs": [
    {
     "name": "stdout",
     "output_type": "stream",
     "text": [
      "192 µs ± 13.9 µs per loop (mean ± std. dev. of 7 runs, 10000 loops each)\n",
      "Temps elapsed  : 0.0001308917999267578 \n",
      " Temps CPU      : 0.00032321799994861067 \n",
      " Erreur relative: 115229.18408928571 \n",
      "\n"
     ]
    }
   ],
   "source": [
    "from os import error\n",
    "\n",
    "if __name__ == '__main__':\n",
    "    from pyccel.stdlib.internal.openmp import omp_get_thread_num, omp_get_num_threads, omp_set_num_threads\n",
    "    omp_set_num_threads(5)\n",
    "    \n",
    "    import numpy as np\n",
    "    import time\n",
    "\n",
    "    # default dimension\n",
    "    nmolec = 100\n",
    "    nmol   = 100\n",
    "    n      = 10\n",
    "\n",
    "    tab     = np.empty((nmol, n, nmolec), dtype=np.double)\n",
    "    tab1    = np.empty((nmol), dtype=np.double)\n",
    "    tab2    = np.zeros((nmol), dtype=np.double)\n",
    "\n",
    "    # pyccelize reduction tab module\n",
    "    from pyccel.decorators import types\n",
    "    from pyccel.epyccel import epyccel\n",
    "    import reduction_tab\n",
    "    \n",
    "    reduction = epyccel(reduction_tab, language='fortran', accelerators=['openmp'])\n",
    "    \n",
    "#     print(\"Execution of reduction table in parallele with\", reduction.threads_num, \"threads\")\n",
    "\n",
    "    # initialize tab \n",
    "    reduction.initialize_table(tab, nmol, n, nmolec)\n",
    "\n",
    "    # start timing\n",
    "    tcpu_0 = time.process_time() # CPU time\n",
    "    t_elapsed_0 = time.time()    # Wall time\n",
    "    \n",
    "    # -------------------- computing ------------------\n",
    "    reduction.reduction(tab, tab1, tab2, nmolec, nmol, n)\n",
    "    # ------------------ End computing ----------------\n",
    "\n",
    "    # CPU time spent\n",
    "    tcpu_1 = time.process_time()\n",
    "    tcpu = tcpu_1 - tcpu_0\n",
    "\n",
    "    # Wall time spent\n",
    "    t_elapsed_1 = time.time()\n",
    "    t_elapsed = t_elapsed_1 - t_elapsed_0\n",
    "    \n",
    "    %timeit reduction.reduction(tab, tab1, tab2, nmolec, nmol, n)\n",
    "    \n",
    "    # verification of results\n",
    "    tab2c = np.zeros((nmol), dtype=np.double)\n",
    "    for k in range(nmolec):\n",
    "        tab1c = np.zeros((nmol), dtype=np.double)\n",
    "        for j in range(n):\n",
    "            for i in range(nmol):\n",
    "                tab1c[i] = tab1c[i] + tab[i, j, k]\n",
    "        tab2c [:] = tab2c[:nmol] + 2 * tab1c[:]\n",
    "    err = np.max(np.abs(tab2c - tab2) / np.abs(tab2c))\n",
    "    print(\n",
    "        \"Temps elapsed  :\", t_elapsed   , \"\\n\",\n",
    "        \"Temps CPU      :\", tcpu        , \"\\n\",\n",
    "        \"Erreur relative:\", err         , \"\\n\"\n",
    "    )"
   ]
  },
  {
   "cell_type": "code",
   "execution_count": 33,
   "id": "6e765afd",
   "metadata": {},
   "outputs": [
    {
     "data": {
      "text/plain": [
       "Text(0.5, 1.0, 'Time CPu per number of threads for table reduction')"
      ]
     },
     "execution_count": 33,
     "metadata": {},
     "output_type": "execute_result"
    },
    {
     "data": {
      "image/png": "[encoded data removed]",
      "text/plain": [
       "<Figure size 432x288 with 1 Axes>"
      ]
     },
     "metadata": {
      "needs_background": "light"
     },
     "output_type": "display_data"
    }
   ],
   "source": [
    "cpu_time=[169/10**6, 184/10**6, 187/10**6, 180/10**6, 182/10**6]\n",
    "plt.plot(range(1,6), cpu_time)\n",
    "plt.title(\"Time CPu per number of threads for table reduction\")"
   ]
  },
  {
   "cell_type": "markdown",
   "id": "571a41ab",
   "metadata": {},
   "source": [
    "On remarque effectivement que l'exécution du code en parallèle est moins éfficace en terme de temps d'exécution comparé à l'éxécution en séquentielle"
   ]
  },
  {
   "cell_type": "markdown",
   "id": "6e0d246e",
   "metadata": {},
   "source": [
    "# Exercise 6 Matrix product by the Strassen algorithm\n",
    "\n",
    "Considering the following code that calculates the matrix product :\n",
    "\n",
    "$$C = A \\times B$$\n",
    "\n",
    "by using Strassen’s recursive algorithm.\n",
    "\n",
    "In this exercise, you must :\n",
    "1. Analyse and parallelize the code by using OpenMP tasks.\n",
    "2. Measure the code performance and plot the speedup curves obtained."
   ]
  },
  {
   "cell_type": "code",
   "execution_count": null,
   "id": "7fd180ca",
   "metadata": {},
   "outputs": [],
   "source": [
    "import time, math\n",
    "import numpy as np\n",
    "from pyccel.decorators import types\n",
    "\n",
    "@types('float[:,:]','float[:,:]', 'float[:,:]', 'int')\n",
    "def strassen_multiply(A, B, C, n):\n",
    "    #A11 float[:]\n",
    "    import numpy as np\n",
    "   \n",
    "    if n & 1 != 0  or n < 128:\n",
    "        \n",
    "        C[:] = np.matmul(A, B)\n",
    "       \n",
    "    else:\n",
    "        \n",
    "        #$ omp parallel\n",
    "        \n",
    "        n2 = n // 2\n",
    "        \n",
    "        #$ omp sections nowait\n",
    "        #$ omp section\n",
    "        A11 = A[ 0:n2, 0:n2 ]\n",
    "        A21 = A[ n2:n, 0:n2 ]\n",
    "        A12 = A[ 0:n2, n2:n ]\n",
    "        A22 = A[ n2:n, n2:n ]\n",
    "        B11 = B[ 0:n2, 0:n2 ]\n",
    "        B21 = B[ n2:n, 0:n2 ]\n",
    "        B12 = B[ 0:n2, n2:n ]\n",
    "        B22 = B[ n2:n, n2:n ]\n",
    "        #$ omp end section\n",
    "    \n",
    "        #$ omp section \n",
    "        Q1 = np.empty((n2, n2), dtype=np.double)\n",
    "        Q2 = np.empty((n2, n2), dtype=np.double)\n",
    "        Q3 = np.empty((n2, n2), dtype=np.double)\n",
    "        Q4 = np.empty((n2, n2), dtype=np.double)\n",
    "        Q5 = np.empty((n2, n2), dtype=np.double)\n",
    "        Q6 = np.empty((n2, n2), dtype=np.double)\n",
    "        Q7 = np.empty((n2, n2), dtype=np.double)\n",
    "        #$ omp end section\n",
    "        #$ omp end sections\n",
    "        \n",
    "        \n",
    "        #$ omp task\n",
    "        strassen_multiply(A11+A22, B11+B22, Q1, n2)\n",
    "        #$ omp end task\n",
    "        \n",
    "        #$ omp task \n",
    "        strassen_multiply(A21+A22, B11, Q2, n2)\n",
    "        #$ omp end task\n",
    "        \n",
    "        #$ omp task \n",
    "        strassen_multiply(A11, B12-B22, Q3, n2)\n",
    "        #$ omp end task\n",
    "        \n",
    "        #$ omp task \n",
    "        strassen_multiply(A22, -B11+B21, Q4, n2)\n",
    "        #$ omp end task\n",
    "        \n",
    "        #$ omp task \n",
    "        strassen_multiply(A11+A12, B22, Q5, n2)\n",
    "        #$ omp end task\n",
    "        \n",
    "        #$ omp task \n",
    "        strassen_multiply(-A11+A21, B11+B12, Q6, n2)\n",
    "        #$ omp end task\n",
    "        \n",
    "        #$ omp task \n",
    "        strassen_multiply(A12-A22, B21+B22, Q7, n2)\n",
    "        #$ omp end task\n",
    "        #$ omp taskwait\n",
    "\n",
    "        C[   :n2,   :n2 ] = Q1+Q4-Q5+Q7\n",
    "\n",
    "        C[ n2: n,   :n2 ] = Q2+Q4\n",
    "\n",
    "        C[   :n2, n2:n  ] = Q3+Q5\n",
    "\n",
    "        C[ n2:n , n2:n  ] = Q1+Q3-Q2+Q6\n",
    "\n",
    "        \n",
    "        #$ omp end parallel\n",
    "\n",
    "\n",
    "\n",
    "\n",
    "def calcul_erreur(n:'int',A:'float[:,:]', B:'float[:,:]', C:'float[:,:]') -> int :\n",
    "    D = np.matmul(A, B) \n",
    "    error = 0.0\n",
    "    #$ omp parallel\n",
    "    #$ omp for\n",
    "    for i in range(n):\n",
    "        for j in range(n):\n",
    "            e = C[ i, j ] - D[ i, j ]\n",
    "            error += e * e\n",
    "\n",
    "    error = math.sqrt(error) / n\n",
    "    #$ omp end parallel\n",
    "    return error\n",
    "\n",
    "if __name__ == '__main__':\n",
    "    from pyccel.stdlib.internal.openmp import omp_get_thread_num, omp_get_num_threads, omp_set_num_threads\n",
    "    omp_set_num_threads(3)\n",
    "    \n",
    "    n = 256\n",
    "\n",
    "    # Initialize Matrices\n",
    "    np.random.seed(421)\n",
    "    A = np.random.uniform(0, 1, (n, n))\n",
    "    B = np.random.uniform(0, 1, (n, n))\n",
    "    C = np.empty((n,n), dtype=np.double)\n",
    "    \n",
    "    from pyccel.decorators import types\n",
    "    from pyccel.epyccel import epyccel\n",
    "    strassen = epyccel(strassen_multiply,language='fortran' ,accelerators=['openmp'])\n",
    "    #num_threads = epyccel(threads_num, accelerators=['openmp'])\n",
    "    #result=omp_get_num_threads()\n",
    "    #print(\"Execution of Strassen in parallele with\", result, \"threads\")\n",
    "    \n",
    "    \n",
    "    # Start timing\n",
    "    tcpu_0 = time.process_time() # CPU time\n",
    "    t_elapsed_0 = time.time()    # Wall time\n",
    "    # -------------------- computing ------------------\n",
    "    # Calcul C=A*B par la methode recursive de Strassen\n",
    "    strassen(A, B, C, n)\n",
    "    # ------------------ end computing ----------------\n",
    "    # CPU time spent\n",
    "    tcpu_1 = time.process_time()\n",
    "    tcpu = tcpu_1 - tcpu_0\n",
    "\n",
    "    # Wall time spent\n",
    "    t_elapsed_1 = time.time()\n",
    "    t_elapsed = t_elapsed_1 - t_elapsed_0\n",
    "    # Print result\n",
    "    print(\n",
    "      \"   Erreur        :\", calcul_erreur(n, A, B, C),  \"\\n\",\n",
    "\t  \"   Temps elapsed :\", t_elapsed,                  \"\\n\",\n",
    "\t  \"   Temps CPU     :\", tcpu,                       \"\\n\",\n",
    "    )\n"
   ]
  }
 ],
 "metadata": {
  "kernelspec": {
   "display_name": "Python 3 (ipykernel)",
   "language": "python",
   "name": "python3"
  },
  "language_info": {
   "codemirror_mode": {
    "name": "ipython",
    "version": 3
   },
   "file_extension": ".py",
   "mimetype": "text/x-python",
   "name": "python",
   "nbconvert_exporter": "python",
   "pygments_lexer": "ipython3",
   "version": "3.9.7"
  }
 },
 "nbformat": 4,
 "nbformat_minor": 5
}
